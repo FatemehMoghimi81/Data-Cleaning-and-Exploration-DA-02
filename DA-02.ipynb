{
 "cells": [
  {
   "cell_type": "code",
   "execution_count": 3,
   "id": "29d32e15",
   "metadata": {},
   "outputs": [],
   "source": [
    "import numpy as np\n",
    "import pandas as pd"
   ]
  },
  {
   "cell_type": "code",
   "execution_count": 4,
   "id": "b7c1ec8f",
   "metadata": {},
   "outputs": [],
   "source": [
    "dataset = pd.read_excel(r\"D:\\DA\\DA 02 tamrin\\1_18150893050.xlsx\")\n",
    "dataset.to_csv(\"1_18150893050.csv\")"
   ]
  },
  {
   "cell_type": "markdown",
   "id": "2d722a0c",
   "metadata": {},
   "source": [
    "read the file and covert it to csv"
   ]
  },
  {
   "cell_type": "code",
   "execution_count": 5,
   "id": "d643e6ac",
   "metadata": {},
   "outputs": [],
   "source": [
    "dataset = pd.read_csv(r\"D:\\DA\\DA 02 tamrin\\1_18150893050.csv\")\n",
    "data_array = dataset.to_numpy()\n"
   ]
  },
  {
   "cell_type": "markdown",
   "id": "93e9cc87",
   "metadata": {},
   "source": [
    "read the csv file and creat a numpy array"
   ]
  },
  {
   "cell_type": "code",
   "execution_count": 6,
   "id": "8fc7e697",
   "metadata": {},
   "outputs": [],
   "source": [
    "data_df = pd.DataFrame(data_array , columns=[\"id\",\"InvoiceNo\",\"StockCode\",\"Description\",\"Quantity\",\"InvoiceDate\",\"UnitPrice\",\"CustomerID\",\"Country\"])"
   ]
  },
  {
   "cell_type": "markdown",
   "id": "c908fb9d",
   "metadata": {},
   "source": [
    "creat a data frame"
   ]
  },
  {
   "cell_type": "code",
   "execution_count": 7,
   "id": "f9742556",
   "metadata": {},
   "outputs": [
    {
     "name": "stdout",
     "output_type": "stream",
     "text": [
      "            id InvoiceNo StockCode                          Description  \\\n",
      "0            0    536365    85123A   WHITE HANGING HEART T-LIGHT HOLDER   \n",
      "1            1    536365     71053                  WHITE METAL LANTERN   \n",
      "2            2    536365    84406B       CREAM CUPID HEARTS COAT HANGER   \n",
      "3            3    536365    84029G  KNITTED UNION FLAG HOT WATER BOTTLE   \n",
      "4            4    536365    84029E       RED WOOLLY HOTTIE WHITE HEART.   \n",
      "...        ...       ...       ...                                  ...   \n",
      "541904  541904    581587     22613          PACK OF 20 SPACEBOY NAPKINS   \n",
      "541905  541905    581587     22899         CHILDREN'S APRON DOLLY GIRL    \n",
      "541906  541906    581587     23254        CHILDRENS CUTLERY DOLLY GIRL    \n",
      "541907  541907    581587     23255      CHILDRENS CUTLERY CIRCUS PARADE   \n",
      "541908  541908    581587     22138        BAKING SET 9 PIECE RETROSPOT    \n",
      "\n",
      "       Quantity          InvoiceDate UnitPrice CustomerID         Country  \n",
      "0             6  2010-12-01 08:26:00      2.55    17850.0  United Kingdom  \n",
      "1             6  2010-12-01 08:26:00      3.39    17850.0  United Kingdom  \n",
      "2             8  2010-12-01 08:26:00      2.75    17850.0  United Kingdom  \n",
      "3             6  2010-12-01 08:26:00      3.39    17850.0  United Kingdom  \n",
      "4             6  2010-12-01 08:26:00      3.39    17850.0  United Kingdom  \n",
      "...         ...                  ...       ...        ...             ...  \n",
      "541904       12  2011-12-09 12:50:00      0.85    12680.0          France  \n",
      "541905        6  2011-12-09 12:50:00       2.1    12680.0          France  \n",
      "541906        4  2011-12-09 12:50:00      4.15    12680.0          France  \n",
      "541907        4  2011-12-09 12:50:00      4.15    12680.0          France  \n",
      "541908        3  2011-12-09 12:50:00      4.95    12680.0          France  \n",
      "\n",
      "[541909 rows x 9 columns]\n"
     ]
    }
   ],
   "source": [
    "print(data_df)"
   ]
  },
  {
   "cell_type": "code",
   "execution_count": 8,
   "id": "7f1c8096",
   "metadata": {},
   "outputs": [
    {
     "name": "stdout",
     "output_type": "stream",
     "text": [
      "<class 'pandas.core.frame.DataFrame'>\n",
      "RangeIndex: 541909 entries, 0 to 541908\n",
      "Data columns (total 9 columns):\n",
      " #   Column       Non-Null Count   Dtype \n",
      "---  ------       --------------   ----- \n",
      " 0   id           541909 non-null  object\n",
      " 1   InvoiceNo    541909 non-null  object\n",
      " 2   StockCode    541909 non-null  object\n",
      " 3   Description  540455 non-null  object\n",
      " 4   Quantity     541909 non-null  object\n",
      " 5   InvoiceDate  541909 non-null  object\n",
      " 6   UnitPrice    541909 non-null  object\n",
      " 7   CustomerID   406829 non-null  object\n",
      " 8   Country      541909 non-null  object\n",
      "dtypes: object(9)\n",
      "memory usage: 37.2+ MB\n",
      "None\n",
      "id                  0\n",
      "InvoiceNo           0\n",
      "StockCode           0\n",
      "Description      1454\n",
      "Quantity            0\n",
      "InvoiceDate         0\n",
      "UnitPrice           0\n",
      "CustomerID     135080\n",
      "Country             0\n",
      "dtype: int64\n"
     ]
    }
   ],
   "source": [
    "print(data_df.info())\n",
    "print(data_df.isna().sum())"
   ]
  },
  {
   "cell_type": "markdown",
   "id": "fe8af205",
   "metadata": {},
   "source": [
    "in this file, there is 541909 samples.all are object. in two columns: Description,CustomerID there is 1454 and 135080 missing data"
   ]
  },
  {
   "cell_type": "code",
   "execution_count": 20,
   "id": "17e9cf22",
   "metadata": {},
   "outputs": [],
   "source": [
    "data_df[\"Quantity\"] = pd.to_numeric(data_df[\"Quantity\"], errors=\"coerce\")\n",
    "data_df[\"CustomerID\"] = pd.to_numeric(data_df[\"CustomerID\"], errors=\"coerce\")\n",
    "data_df[\"UnitPrice\"] = pd.to_numeric(data_df[\"UnitPrice\"], errors=\"coerce\")\n",
    "data_df['InvoiceDate'] = pd.to_datetime(data_df['InvoiceDate'])"
   ]
  },
  {
   "cell_type": "markdown",
   "id": "4898221e",
   "metadata": {},
   "source": [
    "change Quantity,CustomerID,UnitPrice type to float."
   ]
  },
  {
   "cell_type": "code",
   "execution_count": 10,
   "id": "246153da",
   "metadata": {},
   "outputs": [],
   "source": [
    "data_df[\"CustomerID\"] = data_df[\"CustomerID\"].fillna(\"unknown\")"
   ]
  },
  {
   "cell_type": "markdown",
   "id": "572f6ac7",
   "metadata": {},
   "source": [
    "fill null datas in CustomerID to unknown."
   ]
  },
  {
   "cell_type": "code",
   "execution_count": 11,
   "id": "69074b80",
   "metadata": {},
   "outputs": [],
   "source": [
    "data_df = data_df.dropna(subset=[\"Description\"])"
   ]
  },
  {
   "cell_type": "markdown",
   "id": "f52c611e",
   "metadata": {},
   "source": [
    "deleting samples which are null in Description column."
   ]
  },
  {
   "cell_type": "code",
   "execution_count": 21,
   "id": "1a4c79e4",
   "metadata": {},
   "outputs": [
    {
     "name": "stdout",
     "output_type": "stream",
     "text": [
      "<class 'pandas.core.frame.DataFrame'>\n",
      "Int64Index: 540455 entries, 0 to 541908\n",
      "Data columns (total 9 columns):\n",
      " #   Column       Non-Null Count   Dtype         \n",
      "---  ------       --------------   -----         \n",
      " 0   id           540455 non-null  object        \n",
      " 1   InvoiceNo    540455 non-null  object        \n",
      " 2   StockCode    540455 non-null  object        \n",
      " 3   Description  540455 non-null  object        \n",
      " 4   Quantity     540455 non-null  int64         \n",
      " 5   InvoiceDate  540455 non-null  datetime64[ns]\n",
      " 6   UnitPrice    540455 non-null  float64       \n",
      " 7   CustomerID   406829 non-null  float64       \n",
      " 8   Country      540455 non-null  object        \n",
      "dtypes: datetime64[ns](1), float64(2), int64(1), object(5)\n",
      "memory usage: 41.2+ MB\n",
      "None\n",
      "id                  0\n",
      "InvoiceNo           0\n",
      "StockCode           0\n",
      "Description         0\n",
      "Quantity            0\n",
      "InvoiceDate         0\n",
      "UnitPrice           0\n",
      "CustomerID     133626\n",
      "Country             0\n",
      "dtype: int64\n"
     ]
    }
   ],
   "source": [
    "print(data_df.info())\n",
    "print(data_df.isna().sum())"
   ]
  },
  {
   "cell_type": "code",
   "execution_count": 40,
   "id": "20cb184e",
   "metadata": {},
   "outputs": [
    {
     "data": {
      "text/html": [
       "<div>\n",
       "<style scoped>\n",
       "    .dataframe tbody tr th:only-of-type {\n",
       "        vertical-align: middle;\n",
       "    }\n",
       "\n",
       "    .dataframe tbody tr th {\n",
       "        vertical-align: top;\n",
       "    }\n",
       "\n",
       "    .dataframe thead th {\n",
       "        text-align: right;\n",
       "    }\n",
       "</style>\n",
       "<table border=\"1\" class=\"dataframe\">\n",
       "  <thead>\n",
       "    <tr style=\"text-align: right;\">\n",
       "      <th></th>\n",
       "      <th>id</th>\n",
       "      <th>Quantity</th>\n",
       "    </tr>\n",
       "  </thead>\n",
       "  <tbody>\n",
       "    <tr>\n",
       "      <th>730</th>\n",
       "      <td>730</td>\n",
       "      <td>600.0</td>\n",
       "    </tr>\n",
       "    <tr>\n",
       "      <th>3917</th>\n",
       "      <td>3917</td>\n",
       "      <td>600.0</td>\n",
       "    </tr>\n",
       "    <tr>\n",
       "      <th>4850</th>\n",
       "      <td>4850</td>\n",
       "      <td>1824.0</td>\n",
       "    </tr>\n",
       "    <tr>\n",
       "      <th>4945</th>\n",
       "      <td>4945</td>\n",
       "      <td>2880.0</td>\n",
       "    </tr>\n",
       "    <tr>\n",
       "      <th>4946</th>\n",
       "      <td>4946</td>\n",
       "      <td>1400.0</td>\n",
       "    </tr>\n",
       "    <tr>\n",
       "      <th>...</th>\n",
       "      <td>...</td>\n",
       "      <td>...</td>\n",
       "    </tr>\n",
       "    <tr>\n",
       "      <th>537883</th>\n",
       "      <td>537883</td>\n",
       "      <td>960.0</td>\n",
       "    </tr>\n",
       "    <tr>\n",
       "      <th>540061</th>\n",
       "      <td>540061</td>\n",
       "      <td>698.0</td>\n",
       "    </tr>\n",
       "    <tr>\n",
       "      <th>540070</th>\n",
       "      <td>540070</td>\n",
       "      <td>1500.0</td>\n",
       "    </tr>\n",
       "    <tr>\n",
       "      <th>540071</th>\n",
       "      <td>540071</td>\n",
       "      <td>1200.0</td>\n",
       "    </tr>\n",
       "    <tr>\n",
       "      <th>540421</th>\n",
       "      <td>540421</td>\n",
       "      <td>80995.0</td>\n",
       "    </tr>\n",
       "  </tbody>\n",
       "</table>\n",
       "<p>423 rows × 2 columns</p>\n",
       "</div>"
      ],
      "text/plain": [
       "            id  Quantity\n",
       "730        730     600.0\n",
       "3917      3917     600.0\n",
       "4850      4850    1824.0\n",
       "4945      4945    2880.0\n",
       "4946      4946    1400.0\n",
       "...        ...       ...\n",
       "537883  537883     960.0\n",
       "540061  540061     698.0\n",
       "540070  540070    1500.0\n",
       "540071  540071    1200.0\n",
       "540421  540421   80995.0\n",
       "\n",
       "[423 rows x 2 columns]"
      ]
     },
     "execution_count": 40,
     "metadata": {},
     "output_type": "execute_result"
    }
   ],
   "source": [
    "data_df[[\"id\", \"Quantity\"]].where(data_df[\"Quantity\"]>500).dropna()"
   ]
  },
  {
   "cell_type": "markdown",
   "id": "c75568e4",
   "metadata": {},
   "source": [
    "all transactions with negative quantities"
   ]
  },
  {
   "cell_type": "code",
   "execution_count": 39,
   "id": "8d03bf48",
   "metadata": {},
   "outputs": [
    {
     "data": {
      "text/html": [
       "<div>\n",
       "<style scoped>\n",
       "    .dataframe tbody tr th:only-of-type {\n",
       "        vertical-align: middle;\n",
       "    }\n",
       "\n",
       "    .dataframe tbody tr th {\n",
       "        vertical-align: top;\n",
       "    }\n",
       "\n",
       "    .dataframe thead th {\n",
       "        text-align: right;\n",
       "    }\n",
       "</style>\n",
       "<table border=\"1\" class=\"dataframe\">\n",
       "  <thead>\n",
       "    <tr style=\"text-align: right;\">\n",
       "      <th></th>\n",
       "      <th>id</th>\n",
       "      <th>UnitPrice</th>\n",
       "    </tr>\n",
       "  </thead>\n",
       "  <tbody>\n",
       "    <tr>\n",
       "      <th>6391</th>\n",
       "      <td>6391</td>\n",
       "      <td>0.0</td>\n",
       "    </tr>\n",
       "    <tr>\n",
       "      <th>6392</th>\n",
       "      <td>6392</td>\n",
       "      <td>0.0</td>\n",
       "    </tr>\n",
       "    <tr>\n",
       "      <th>7313</th>\n",
       "      <td>7313</td>\n",
       "      <td>0.0</td>\n",
       "    </tr>\n",
       "    <tr>\n",
       "      <th>9302</th>\n",
       "      <td>9302</td>\n",
       "      <td>0.0</td>\n",
       "    </tr>\n",
       "    <tr>\n",
       "      <th>13217</th>\n",
       "      <td>13217</td>\n",
       "      <td>0.0</td>\n",
       "    </tr>\n",
       "    <tr>\n",
       "      <th>...</th>\n",
       "      <td>...</td>\n",
       "      <td>...</td>\n",
       "    </tr>\n",
       "    <tr>\n",
       "      <th>535336</th>\n",
       "      <td>535336</td>\n",
       "      <td>0.0</td>\n",
       "    </tr>\n",
       "    <tr>\n",
       "      <th>536908</th>\n",
       "      <td>536908</td>\n",
       "      <td>0.0</td>\n",
       "    </tr>\n",
       "    <tr>\n",
       "      <th>538504</th>\n",
       "      <td>538504</td>\n",
       "      <td>0.0</td>\n",
       "    </tr>\n",
       "    <tr>\n",
       "      <th>538505</th>\n",
       "      <td>538505</td>\n",
       "      <td>0.0</td>\n",
       "    </tr>\n",
       "    <tr>\n",
       "      <th>538919</th>\n",
       "      <td>538919</td>\n",
       "      <td>0.0</td>\n",
       "    </tr>\n",
       "  </tbody>\n",
       "</table>\n",
       "<p>1061 rows × 2 columns</p>\n",
       "</div>"
      ],
      "text/plain": [
       "            id  UnitPrice\n",
       "6391      6391        0.0\n",
       "6392      6392        0.0\n",
       "7313      7313        0.0\n",
       "9302      9302        0.0\n",
       "13217    13217        0.0\n",
       "...        ...        ...\n",
       "535336  535336        0.0\n",
       "536908  536908        0.0\n",
       "538504  538504        0.0\n",
       "538505  538505        0.0\n",
       "538919  538919        0.0\n",
       "\n",
       "[1061 rows x 2 columns]"
      ]
     },
     "execution_count": 39,
     "metadata": {},
     "output_type": "execute_result"
    }
   ],
   "source": [
    "data_df[[\"id\", \"UnitPrice\"]].where(data_df[\"UnitPrice\"] == 0).dropna()"
   ]
  },
  {
   "cell_type": "markdown",
   "id": "e0231a8f",
   "metadata": {},
   "source": [
    "transactions where the unit price is zero."
   ]
  },
  {
   "cell_type": "code",
   "execution_count": 38,
   "id": "63dac713",
   "metadata": {},
   "outputs": [
    {
     "data": {
      "text/html": [
       "<div>\n",
       "<style scoped>\n",
       "    .dataframe tbody tr th:only-of-type {\n",
       "        vertical-align: middle;\n",
       "    }\n",
       "\n",
       "    .dataframe tbody tr th {\n",
       "        vertical-align: top;\n",
       "    }\n",
       "\n",
       "    .dataframe thead th {\n",
       "        text-align: right;\n",
       "    }\n",
       "</style>\n",
       "<table border=\"1\" class=\"dataframe\">\n",
       "  <thead>\n",
       "    <tr style=\"text-align: right;\">\n",
       "      <th></th>\n",
       "      <th>id</th>\n",
       "      <th>Description</th>\n",
       "    </tr>\n",
       "  </thead>\n",
       "  <tbody>\n",
       "    <tr>\n",
       "      <th>30</th>\n",
       "      <td>30</td>\n",
       "      <td>STARS GIFT TAPE</td>\n",
       "    </tr>\n",
       "    <tr>\n",
       "      <th>712</th>\n",
       "      <td>712</td>\n",
       "      <td>PACK OF 6 BIRDY GIFT TAGS</td>\n",
       "    </tr>\n",
       "    <tr>\n",
       "      <th>836</th>\n",
       "      <td>836</td>\n",
       "      <td>PACK OF 6 SWEETIE GIFT BOXES</td>\n",
       "    </tr>\n",
       "    <tr>\n",
       "      <th>839</th>\n",
       "      <td>839</td>\n",
       "      <td>PACK OF 6 BIRDY GIFT TAGS</td>\n",
       "    </tr>\n",
       "    <tr>\n",
       "      <th>950</th>\n",
       "      <td>950</td>\n",
       "      <td>SMALL STRIPES CHOCOLATE GIFT BAG</td>\n",
       "    </tr>\n",
       "    <tr>\n",
       "      <th>...</th>\n",
       "      <td>...</td>\n",
       "      <td>...</td>\n",
       "    </tr>\n",
       "    <tr>\n",
       "      <th>541502</th>\n",
       "      <td>541502</td>\n",
       "      <td>50'S CHRISTMAS GIFT BAG LARGE</td>\n",
       "    </tr>\n",
       "    <tr>\n",
       "      <th>541676</th>\n",
       "      <td>541676</td>\n",
       "      <td>6 GIFT TAGS VINTAGE CHRISTMAS</td>\n",
       "    </tr>\n",
       "    <tr>\n",
       "      <th>541794</th>\n",
       "      <td>541794</td>\n",
       "      <td>PACK OF 6 BIRDY GIFT TAGS</td>\n",
       "    </tr>\n",
       "    <tr>\n",
       "      <th>541813</th>\n",
       "      <td>541813</td>\n",
       "      <td>6 GIFT TAGS VINTAGE CHRISTMAS</td>\n",
       "    </tr>\n",
       "    <tr>\n",
       "      <th>541859</th>\n",
       "      <td>541859</td>\n",
       "      <td>TEA TIME TEAPOT IN GIFT BOX</td>\n",
       "    </tr>\n",
       "  </tbody>\n",
       "</table>\n",
       "<p>5293 rows × 2 columns</p>\n",
       "</div>"
      ],
      "text/plain": [
       "            id                        Description\n",
       "30          30                   STARS GIFT TAPE \n",
       "712        712          PACK OF 6 BIRDY GIFT TAGS\n",
       "836        836       PACK OF 6 SWEETIE GIFT BOXES\n",
       "839        839          PACK OF 6 BIRDY GIFT TAGS\n",
       "950        950  SMALL STRIPES CHOCOLATE GIFT BAG \n",
       "...        ...                                ...\n",
       "541502  541502      50'S CHRISTMAS GIFT BAG LARGE\n",
       "541676  541676     6 GIFT TAGS VINTAGE CHRISTMAS \n",
       "541794  541794          PACK OF 6 BIRDY GIFT TAGS\n",
       "541813  541813     6 GIFT TAGS VINTAGE CHRISTMAS \n",
       "541859  541859        TEA TIME TEAPOT IN GIFT BOX\n",
       "\n",
       "[5293 rows x 2 columns]"
      ]
     },
     "execution_count": 38,
     "metadata": {},
     "output_type": "execute_result"
    }
   ],
   "source": [
    "data_df[[\"id\", \"Description\"]].where(data_df[\"Description\"].str.contains(\"gift\", case=False, na=False)).dropna()"
   ]
  },
  {
   "cell_type": "markdown",
   "id": "9af7404a",
   "metadata": {},
   "source": [
    "all products whose description includes the word \"gift\""
   ]
  },
  {
   "cell_type": "code",
   "execution_count": 37,
   "id": "c8cd84d6",
   "metadata": {},
   "outputs": [
    {
     "data": {
      "text/html": [
       "<div>\n",
       "<style scoped>\n",
       "    .dataframe tbody tr th:only-of-type {\n",
       "        vertical-align: middle;\n",
       "    }\n",
       "\n",
       "    .dataframe tbody tr th {\n",
       "        vertical-align: top;\n",
       "    }\n",
       "\n",
       "    .dataframe thead th {\n",
       "        text-align: right;\n",
       "    }\n",
       "</style>\n",
       "<table border=\"1\" class=\"dataframe\">\n",
       "  <thead>\n",
       "    <tr style=\"text-align: right;\">\n",
       "      <th></th>\n",
       "      <th>id</th>\n",
       "      <th>Country</th>\n",
       "    </tr>\n",
       "  </thead>\n",
       "  <tbody>\n",
       "    <tr>\n",
       "      <th>1109</th>\n",
       "      <td>1109</td>\n",
       "      <td>Germany</td>\n",
       "    </tr>\n",
       "    <tr>\n",
       "      <th>1110</th>\n",
       "      <td>1110</td>\n",
       "      <td>Germany</td>\n",
       "    </tr>\n",
       "    <tr>\n",
       "      <th>1111</th>\n",
       "      <td>1111</td>\n",
       "      <td>Germany</td>\n",
       "    </tr>\n",
       "    <tr>\n",
       "      <th>1112</th>\n",
       "      <td>1112</td>\n",
       "      <td>Germany</td>\n",
       "    </tr>\n",
       "    <tr>\n",
       "      <th>1113</th>\n",
       "      <td>1113</td>\n",
       "      <td>Germany</td>\n",
       "    </tr>\n",
       "    <tr>\n",
       "      <th>...</th>\n",
       "      <td>...</td>\n",
       "      <td>...</td>\n",
       "    </tr>\n",
       "    <tr>\n",
       "      <th>541801</th>\n",
       "      <td>541801</td>\n",
       "      <td>Germany</td>\n",
       "    </tr>\n",
       "    <tr>\n",
       "      <th>541802</th>\n",
       "      <td>541802</td>\n",
       "      <td>Germany</td>\n",
       "    </tr>\n",
       "    <tr>\n",
       "      <th>541803</th>\n",
       "      <td>541803</td>\n",
       "      <td>Germany</td>\n",
       "    </tr>\n",
       "    <tr>\n",
       "      <th>541804</th>\n",
       "      <td>541804</td>\n",
       "      <td>Germany</td>\n",
       "    </tr>\n",
       "    <tr>\n",
       "      <th>541805</th>\n",
       "      <td>541805</td>\n",
       "      <td>Germany</td>\n",
       "    </tr>\n",
       "  </tbody>\n",
       "</table>\n",
       "<p>9495 rows × 2 columns</p>\n",
       "</div>"
      ],
      "text/plain": [
       "            id  Country\n",
       "1109      1109  Germany\n",
       "1110      1110  Germany\n",
       "1111      1111  Germany\n",
       "1112      1112  Germany\n",
       "1113      1113  Germany\n",
       "...        ...      ...\n",
       "541801  541801  Germany\n",
       "541802  541802  Germany\n",
       "541803  541803  Germany\n",
       "541804  541804  Germany\n",
       "541805  541805  Germany\n",
       "\n",
       "[9495 rows x 2 columns]"
      ]
     },
     "execution_count": 37,
     "metadata": {},
     "output_type": "execute_result"
    }
   ],
   "source": [
    "data_df[[\"id\", \"Country\"]].where(data_df[\"Country\"] == \"Germany\").dropna()"
   ]
  },
  {
   "cell_type": "markdown",
   "id": "452e5078",
   "metadata": {},
   "source": [
    "all orders placed from Germany"
   ]
  },
  {
   "cell_type": "code",
   "execution_count": null,
   "id": "0f1180f2",
   "metadata": {},
   "outputs": [
    {
     "data": {
      "text/html": [
       "<div>\n",
       "<style scoped>\n",
       "    .dataframe tbody tr th:only-of-type {\n",
       "        vertical-align: middle;\n",
       "    }\n",
       "\n",
       "    .dataframe tbody tr th {\n",
       "        vertical-align: top;\n",
       "    }\n",
       "\n",
       "    .dataframe thead th {\n",
       "        text-align: right;\n",
       "    }\n",
       "</style>\n",
       "<table border=\"1\" class=\"dataframe\">\n",
       "  <thead>\n",
       "    <tr style=\"text-align: right;\">\n",
       "      <th></th>\n",
       "      <th>id</th>\n",
       "      <th>InvoiceDate</th>\n",
       "    </tr>\n",
       "  </thead>\n",
       "  <tbody>\n",
       "    <tr>\n",
       "      <th>1000</th>\n",
       "      <td>1000</td>\n",
       "      <td>2010-12-01 12:43:00</td>\n",
       "    </tr>\n",
       "    <tr>\n",
       "      <th>1001</th>\n",
       "      <td>1001</td>\n",
       "      <td>2010-12-01 12:43:00</td>\n",
       "    </tr>\n",
       "    <tr>\n",
       "      <th>1002</th>\n",
       "      <td>1002</td>\n",
       "      <td>2010-12-01 12:43:00</td>\n",
       "    </tr>\n",
       "    <tr>\n",
       "      <th>1003</th>\n",
       "      <td>1003</td>\n",
       "      <td>2010-12-01 12:43:00</td>\n",
       "    </tr>\n",
       "    <tr>\n",
       "      <th>1004</th>\n",
       "      <td>1004</td>\n",
       "      <td>2010-12-01 12:43:00</td>\n",
       "    </tr>\n",
       "    <tr>\n",
       "      <th>...</th>\n",
       "      <td>...</td>\n",
       "      <td>...</td>\n",
       "    </tr>\n",
       "    <tr>\n",
       "      <th>1995</th>\n",
       "      <td>1995</td>\n",
       "      <td>2010-12-01 14:34:00</td>\n",
       "    </tr>\n",
       "    <tr>\n",
       "      <th>1996</th>\n",
       "      <td>1996</td>\n",
       "      <td>2010-12-01 14:34:00</td>\n",
       "    </tr>\n",
       "    <tr>\n",
       "      <th>1997</th>\n",
       "      <td>1997</td>\n",
       "      <td>2010-12-01 14:34:00</td>\n",
       "    </tr>\n",
       "    <tr>\n",
       "      <th>1998</th>\n",
       "      <td>1998</td>\n",
       "      <td>2010-12-01 14:34:00</td>\n",
       "    </tr>\n",
       "    <tr>\n",
       "      <th>1999</th>\n",
       "      <td>1999</td>\n",
       "      <td>2010-12-01 14:34:00</td>\n",
       "    </tr>\n",
       "  </tbody>\n",
       "</table>\n",
       "<p>995 rows × 2 columns</p>\n",
       "</div>"
      ],
      "text/plain": [
       "        id         InvoiceDate\n",
       "1000  1000 2010-12-01 12:43:00\n",
       "1001  1001 2010-12-01 12:43:00\n",
       "1002  1002 2010-12-01 12:43:00\n",
       "1003  1003 2010-12-01 12:43:00\n",
       "1004  1004 2010-12-01 12:43:00\n",
       "...    ...                 ...\n",
       "1995  1995 2010-12-01 14:34:00\n",
       "1996  1996 2010-12-01 14:34:00\n",
       "1997  1997 2010-12-01 14:34:00\n",
       "1998  1998 2010-12-01 14:34:00\n",
       "1999  1999 2010-12-01 14:34:00\n",
       "\n",
       "[995 rows x 2 columns]"
      ]
     },
     "execution_count": 33,
     "metadata": {},
     "output_type": "execute_result"
    }
   ],
   "source": [
    "data_df.loc[1000:1999, [\"id\", \"InvoiceDate\"]].where(data_df[\"InvoiceDate\"].dt.month == 12).dropna()"
   ]
  },
  {
   "cell_type": "markdown",
   "id": "9341d9d4",
   "metadata": {},
   "source": [
    "all orders in December (month 12) from rows 1000 to 1999."
   ]
  }
 ],
 "metadata": {
  "kernelspec": {
   "display_name": "Python 3",
   "language": "python",
   "name": "python3"
  },
  "language_info": {
   "codemirror_mode": {
    "name": "ipython",
    "version": 3
   },
   "file_extension": ".py",
   "mimetype": "text/x-python",
   "name": "python",
   "nbconvert_exporter": "python",
   "pygments_lexer": "ipython3",
   "version": "3.10.2"
  }
 },
 "nbformat": 4,
 "nbformat_minor": 5
}
