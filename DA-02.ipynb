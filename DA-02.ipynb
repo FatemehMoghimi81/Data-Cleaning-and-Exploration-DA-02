{
 "cells": [
  {
   "cell_type": "code",
   "execution_count": 5,
   "id": "29d32e15",
   "metadata": {},
   "outputs": [],
   "source": [
    "import numpy as np\n",
    "import pandas as pd"
   ]
  },
  {
   "cell_type": "code",
   "execution_count": null,
   "id": "b7c1ec8f",
   "metadata": {},
   "outputs": [],
   "source": [
    "dataset = pd.read_xlsx(\"1_18150893050.xlsx\")\n",
    "dataset.to_csv(\"1_18150893050.csv\")"
   ]
  },
  {
   "cell_type": "markdown",
   "id": "2d722a0c",
   "metadata": {},
   "source": [
    "read the file and covert it to csv"
   ]
  },
  {
   "cell_type": "code",
   "execution_count": 6,
   "id": "d643e6ac",
   "metadata": {},
   "outputs": [],
   "source": [
    "dataset = pd.read_csv(\"1_18150893050.csv\",index_col=\"Unnamed: 0\" )\n",
    "data_array = dataset.to_numpy()\n"
   ]
  },
  {
   "cell_type": "markdown",
   "id": "93e9cc87",
   "metadata": {},
   "source": [
    "read the csv file and creat a numpy array"
   ]
  },
  {
   "cell_type": "code",
   "execution_count": 7,
   "id": "8fc7e697",
   "metadata": {},
   "outputs": [],
   "source": [
    "data_df = pd.DataFrame(data_array , columns=[\"InvoiceNo\",\"StockCode\",\"Description\",\"Quantity\",\"InvoiceDate\",\"UnitPrice\",\"CustomerID\",\"Country\"])"
   ]
  },
  {
   "cell_type": "markdown",
   "id": "c908fb9d",
   "metadata": {},
   "source": [
    "creat a data frame"
   ]
  },
  {
   "cell_type": "code",
   "execution_count": 8,
   "id": "f9742556",
   "metadata": {},
   "outputs": [
    {
     "name": "stdout",
     "output_type": "stream",
     "text": [
      "       InvoiceNo StockCode                          Description Quantity  \\\n",
      "0         536365    85123A   WHITE HANGING HEART T-LIGHT HOLDER        6   \n",
      "1         536365     71053                  WHITE METAL LANTERN        6   \n",
      "2         536365    84406B       CREAM CUPID HEARTS COAT HANGER        8   \n",
      "3         536365    84029G  KNITTED UNION FLAG HOT WATER BOTTLE        6   \n",
      "4         536365    84029E       RED WOOLLY HOTTIE WHITE HEART.        6   \n",
      "...          ...       ...                                  ...      ...   \n",
      "541904    581587     22613          PACK OF 20 SPACEBOY NAPKINS       12   \n",
      "541905    581587     22899         CHILDREN'S APRON DOLLY GIRL         6   \n",
      "541906    581587     23254        CHILDRENS CUTLERY DOLLY GIRL         4   \n",
      "541907    581587     23255      CHILDRENS CUTLERY CIRCUS PARADE        4   \n",
      "541908    581587     22138        BAKING SET 9 PIECE RETROSPOT         3   \n",
      "\n",
      "                InvoiceDate UnitPrice CustomerID         Country  \n",
      "0       2010-12-01 08:26:00      2.55    17850.0  United Kingdom  \n",
      "1       2010-12-01 08:26:00      3.39    17850.0  United Kingdom  \n",
      "2       2010-12-01 08:26:00      2.75    17850.0  United Kingdom  \n",
      "3       2010-12-01 08:26:00      3.39    17850.0  United Kingdom  \n",
      "4       2010-12-01 08:26:00      3.39    17850.0  United Kingdom  \n",
      "...                     ...       ...        ...             ...  \n",
      "541904  2011-12-09 12:50:00      0.85    12680.0          France  \n",
      "541905  2011-12-09 12:50:00       2.1    12680.0          France  \n",
      "541906  2011-12-09 12:50:00      4.15    12680.0          France  \n",
      "541907  2011-12-09 12:50:00      4.15    12680.0          France  \n",
      "541908  2011-12-09 12:50:00      4.95    12680.0          France  \n",
      "\n",
      "[541909 rows x 8 columns]\n"
     ]
    }
   ],
   "source": [
    "print(data_df)"
   ]
  },
  {
   "cell_type": "code",
   "execution_count": 9,
   "id": "7f1c8096",
   "metadata": {},
   "outputs": [
    {
     "name": "stdout",
     "output_type": "stream",
     "text": [
      "<class 'pandas.core.frame.DataFrame'>\n",
      "RangeIndex: 541909 entries, 0 to 541908\n",
      "Data columns (total 8 columns):\n",
      " #   Column       Non-Null Count   Dtype \n",
      "---  ------       --------------   ----- \n",
      " 0   InvoiceNo    541909 non-null  object\n",
      " 1   StockCode    541909 non-null  object\n",
      " 2   Description  540455 non-null  object\n",
      " 3   Quantity     541909 non-null  object\n",
      " 4   InvoiceDate  541909 non-null  object\n",
      " 5   UnitPrice    541909 non-null  object\n",
      " 6   CustomerID   406829 non-null  object\n",
      " 7   Country      541909 non-null  object\n",
      "dtypes: object(8)\n",
      "memory usage: 33.1+ MB\n",
      "None\n",
      "InvoiceNo           0\n",
      "StockCode           0\n",
      "Description      1454\n",
      "Quantity            0\n",
      "InvoiceDate         0\n",
      "UnitPrice           0\n",
      "CustomerID     135080\n",
      "Country             0\n",
      "dtype: int64\n"
     ]
    }
   ],
   "source": [
    "print(data_df.info())\n",
    "print(data_df.isna().sum())"
   ]
  },
  {
   "cell_type": "markdown",
   "id": "fe8af205",
   "metadata": {},
   "source": [
    "in this file, there is 541909 samples.all are object. in two columns: Description,CustomerID there is 1454 and 135080 missing data"
   ]
  },
  {
   "cell_type": "code",
   "execution_count": 10,
   "id": "17e9cf22",
   "metadata": {},
   "outputs": [],
   "source": [
    "data_df[\"Quantity\"] = pd.to_numeric(data_df[\"Quantity\"], errors=\"coerce\")\n",
    "data_df[\"CustomerID\"] = pd.to_numeric(data_df[\"CustomerID\"], errors=\"coerce\")\n",
    "data_df[\"UnitPrice\"] = pd.to_numeric(data_df[\"UnitPrice\"], errors=\"coerce\")\n",
    "data_df['InvoiceDate'] = pd.to_datetime(data_df['InvoiceDate'])"
   ]
  },
  {
   "cell_type": "markdown",
   "id": "4898221e",
   "metadata": {},
   "source": [
    "change Quantity,CustomerID,UnitPrice type to float."
   ]
  },
  {
   "cell_type": "code",
   "execution_count": 11,
   "id": "246153da",
   "metadata": {},
   "outputs": [],
   "source": [
    "data_df[\"CustomerID\"] = data_df[\"CustomerID\"].fillna(\"unknown\")"
   ]
  },
  {
   "cell_type": "markdown",
   "id": "572f6ac7",
   "metadata": {},
   "source": [
    "fill null datas in CustomerID to unknown."
   ]
  },
  {
   "cell_type": "code",
   "execution_count": 12,
   "id": "69074b80",
   "metadata": {},
   "outputs": [],
   "source": [
    "data_df = data_df.dropna(subset=[\"Description\"])"
   ]
  },
  {
   "cell_type": "markdown",
   "id": "f52c611e",
   "metadata": {},
   "source": [
    "deleting samples which are null in Description column."
   ]
  },
  {
   "cell_type": "code",
   "execution_count": 13,
   "id": "1a4c79e4",
   "metadata": {},
   "outputs": [
    {
     "name": "stdout",
     "output_type": "stream",
     "text": [
      "<class 'pandas.core.frame.DataFrame'>\n",
      "Int64Index: 540455 entries, 0 to 541908\n",
      "Data columns (total 8 columns):\n",
      " #   Column       Non-Null Count   Dtype         \n",
      "---  ------       --------------   -----         \n",
      " 0   InvoiceNo    540455 non-null  object        \n",
      " 1   StockCode    540455 non-null  object        \n",
      " 2   Description  540455 non-null  object        \n",
      " 3   Quantity     540455 non-null  int64         \n",
      " 4   InvoiceDate  540455 non-null  datetime64[ns]\n",
      " 5   UnitPrice    540455 non-null  float64       \n",
      " 6   CustomerID   540455 non-null  object        \n",
      " 7   Country      540455 non-null  object        \n",
      "dtypes: datetime64[ns](1), float64(1), int64(1), object(5)\n",
      "memory usage: 37.1+ MB\n",
      "None\n",
      "InvoiceNo      0\n",
      "StockCode      0\n",
      "Description    0\n",
      "Quantity       0\n",
      "InvoiceDate    0\n",
      "UnitPrice      0\n",
      "CustomerID     0\n",
      "Country        0\n",
      "dtype: int64\n"
     ]
    }
   ],
   "source": [
    "print(data_df.info())\n",
    "print(data_df.isna().sum())"
   ]
  },
  {
   "cell_type": "code",
   "execution_count": 14,
   "id": "20cb184e",
   "metadata": {},
   "outputs": [
    {
     "data": {
      "text/plain": [
       "730         600.0\n",
       "3917        600.0\n",
       "4850       1824.0\n",
       "4945       2880.0\n",
       "4946       1400.0\n",
       "           ...   \n",
       "537883      960.0\n",
       "540061      698.0\n",
       "540070     1500.0\n",
       "540071     1200.0\n",
       "540421    80995.0\n",
       "Name: Quantity, Length: 423, dtype: float64"
      ]
     },
     "execution_count": 14,
     "metadata": {},
     "output_type": "execute_result"
    }
   ],
   "source": [
    "data_df[\"Quantity\"].where(data_df[\"Quantity\"]>500).dropna()"
   ]
  },
  {
   "cell_type": "markdown",
   "id": "c75568e4",
   "metadata": {},
   "source": [
    "all transactions with negative quantities"
   ]
  },
  {
   "cell_type": "code",
   "execution_count": 15,
   "id": "8d03bf48",
   "metadata": {},
   "outputs": [
    {
     "data": {
      "text/plain": [
       "6391      0.0\n",
       "6392      0.0\n",
       "7313      0.0\n",
       "9302      0.0\n",
       "13217     0.0\n",
       "         ... \n",
       "535336    0.0\n",
       "536908    0.0\n",
       "538504    0.0\n",
       "538505    0.0\n",
       "538919    0.0\n",
       "Name: UnitPrice, Length: 1061, dtype: float64"
      ]
     },
     "execution_count": 15,
     "metadata": {},
     "output_type": "execute_result"
    }
   ],
   "source": [
    "data_df[\"UnitPrice\"].where(data_df[\"UnitPrice\"] == 0).dropna()"
   ]
  },
  {
   "cell_type": "markdown",
   "id": "e0231a8f",
   "metadata": {},
   "source": [
    "transactions where the unit price is zero."
   ]
  },
  {
   "cell_type": "code",
   "execution_count": 16,
   "id": "63dac713",
   "metadata": {},
   "outputs": [
    {
     "data": {
      "text/plain": [
       "30                         STARS GIFT TAPE \n",
       "712               PACK OF 6 BIRDY GIFT TAGS\n",
       "836            PACK OF 6 SWEETIE GIFT BOXES\n",
       "839               PACK OF 6 BIRDY GIFT TAGS\n",
       "950       SMALL STRIPES CHOCOLATE GIFT BAG \n",
       "                        ...                \n",
       "541502        50'S CHRISTMAS GIFT BAG LARGE\n",
       "541676       6 GIFT TAGS VINTAGE CHRISTMAS \n",
       "541794            PACK OF 6 BIRDY GIFT TAGS\n",
       "541813       6 GIFT TAGS VINTAGE CHRISTMAS \n",
       "541859          TEA TIME TEAPOT IN GIFT BOX\n",
       "Name: Description, Length: 5293, dtype: object"
      ]
     },
     "execution_count": 16,
     "metadata": {},
     "output_type": "execute_result"
    }
   ],
   "source": [
    "data_df[\"Description\"].where(data_df[\"Description\"].str.contains(\"gift\", case=False, na=False)).dropna()"
   ]
  },
  {
   "cell_type": "markdown",
   "id": "9af7404a",
   "metadata": {},
   "source": [
    "all products whose description includes the word \"gift\""
   ]
  },
  {
   "cell_type": "code",
   "execution_count": 17,
   "id": "c8cd84d6",
   "metadata": {},
   "outputs": [
    {
     "data": {
      "text/plain": [
       "1109      Germany\n",
       "1110      Germany\n",
       "1111      Germany\n",
       "1112      Germany\n",
       "1113      Germany\n",
       "           ...   \n",
       "541801    Germany\n",
       "541802    Germany\n",
       "541803    Germany\n",
       "541804    Germany\n",
       "541805    Germany\n",
       "Name: Country, Length: 9495, dtype: object"
      ]
     },
     "execution_count": 17,
     "metadata": {},
     "output_type": "execute_result"
    }
   ],
   "source": [
    "data_df[\"Country\"].where(data_df[\"Country\"] == \"Germany\").dropna()"
   ]
  },
  {
   "cell_type": "markdown",
   "id": "452e5078",
   "metadata": {},
   "source": [
    "all orders placed from Germany"
   ]
  },
  {
   "cell_type": "code",
   "execution_count": 18,
   "id": "0f1180f2",
   "metadata": {},
   "outputs": [
    {
     "data": {
      "text/html": [
       "<div>\n",
       "<style scoped>\n",
       "    .dataframe tbody tr th:only-of-type {\n",
       "        vertical-align: middle;\n",
       "    }\n",
       "\n",
       "    .dataframe tbody tr th {\n",
       "        vertical-align: top;\n",
       "    }\n",
       "\n",
       "    .dataframe thead th {\n",
       "        text-align: right;\n",
       "    }\n",
       "</style>\n",
       "<table border=\"1\" class=\"dataframe\">\n",
       "  <thead>\n",
       "    <tr style=\"text-align: right;\">\n",
       "      <th></th>\n",
       "      <th>InvoiceDate</th>\n",
       "    </tr>\n",
       "  </thead>\n",
       "  <tbody>\n",
       "    <tr>\n",
       "      <th>1000</th>\n",
       "      <td>2010-12-01 12:43:00</td>\n",
       "    </tr>\n",
       "    <tr>\n",
       "      <th>1001</th>\n",
       "      <td>2010-12-01 12:43:00</td>\n",
       "    </tr>\n",
       "    <tr>\n",
       "      <th>1002</th>\n",
       "      <td>2010-12-01 12:43:00</td>\n",
       "    </tr>\n",
       "    <tr>\n",
       "      <th>1003</th>\n",
       "      <td>2010-12-01 12:43:00</td>\n",
       "    </tr>\n",
       "    <tr>\n",
       "      <th>1004</th>\n",
       "      <td>2010-12-01 12:43:00</td>\n",
       "    </tr>\n",
       "    <tr>\n",
       "      <th>...</th>\n",
       "      <td>...</td>\n",
       "    </tr>\n",
       "    <tr>\n",
       "      <th>1995</th>\n",
       "      <td>2010-12-01 14:34:00</td>\n",
       "    </tr>\n",
       "    <tr>\n",
       "      <th>1996</th>\n",
       "      <td>2010-12-01 14:34:00</td>\n",
       "    </tr>\n",
       "    <tr>\n",
       "      <th>1997</th>\n",
       "      <td>2010-12-01 14:34:00</td>\n",
       "    </tr>\n",
       "    <tr>\n",
       "      <th>1998</th>\n",
       "      <td>2010-12-01 14:34:00</td>\n",
       "    </tr>\n",
       "    <tr>\n",
       "      <th>1999</th>\n",
       "      <td>2010-12-01 14:34:00</td>\n",
       "    </tr>\n",
       "  </tbody>\n",
       "</table>\n",
       "<p>995 rows × 1 columns</p>\n",
       "</div>"
      ],
      "text/plain": [
       "             InvoiceDate\n",
       "1000 2010-12-01 12:43:00\n",
       "1001 2010-12-01 12:43:00\n",
       "1002 2010-12-01 12:43:00\n",
       "1003 2010-12-01 12:43:00\n",
       "1004 2010-12-01 12:43:00\n",
       "...                  ...\n",
       "1995 2010-12-01 14:34:00\n",
       "1996 2010-12-01 14:34:00\n",
       "1997 2010-12-01 14:34:00\n",
       "1998 2010-12-01 14:34:00\n",
       "1999 2010-12-01 14:34:00\n",
       "\n",
       "[995 rows x 1 columns]"
      ]
     },
     "execution_count": 18,
     "metadata": {},
     "output_type": "execute_result"
    }
   ],
   "source": [
    "data_df.loc[1000:1999, [\"InvoiceDate\"]].where(data_df[\"InvoiceDate\"].dt.month == 12).dropna()"
   ]
  },
  {
   "cell_type": "markdown",
   "id": "9341d9d4",
   "metadata": {},
   "source": [
    "all orders in December (month 12) from rows 1000 to 1999."
   ]
  },
  {
   "cell_type": "code",
   "execution_count": 19,
   "id": "644255be",
   "metadata": {},
   "outputs": [
    {
     "data": {
      "text/plain": [
       "<function __main__.<lambda>(Quantity, UnitPrice)>"
      ]
     },
     "execution_count": 19,
     "metadata": {},
     "output_type": "execute_result"
    }
   ],
   "source": [
    "lambda Quantity,UnitPrice : UnitPrice*Quantity"
   ]
  },
  {
   "cell_type": "code",
   "execution_count": 21,
   "id": "55bb787b",
   "metadata": {},
   "outputs": [
    {
     "name": "stdout",
     "output_type": "stream",
     "text": [
      "        UnitPrice  Quantity  TotalCust\n",
      "0            2.55         6      15.30\n",
      "1            3.39         6      20.34\n",
      "2            2.75         8      22.00\n",
      "3            3.39         6      20.34\n",
      "4            3.39         6      20.34\n",
      "...           ...       ...        ...\n",
      "541904       0.85        12      10.20\n",
      "541905       2.10         6      12.60\n",
      "541906       4.15         4      16.60\n",
      "541907       4.15         4      16.60\n",
      "541908       4.95         3      14.85\n",
      "\n",
      "[540455 rows x 3 columns]\n"
     ]
    }
   ],
   "source": [
    "data_df[\"TotalCust\"] = data_df.apply(lambda row: row[\"Quantity\"] * row[\"UnitPrice\"], axis=1)\n",
    "print(data_df[[\"UnitPrice\",\"Quantity\",\"TotalCust\"]])"
   ]
  }
 ],
 "metadata": {
  "kernelspec": {
   "display_name": "Python 3",
   "language": "python",
   "name": "python3"
  },
  "language_info": {
   "codemirror_mode": {
    "name": "ipython",
    "version": 3
   },
   "file_extension": ".py",
   "mimetype": "text/x-python",
   "name": "python",
   "nbconvert_exporter": "python",
   "pygments_lexer": "ipython3",
   "version": "3.10.2"
  }
 },
 "nbformat": 4,
 "nbformat_minor": 5
}
